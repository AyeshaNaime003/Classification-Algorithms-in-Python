{
 "cells": [
  {
   "cell_type": "code",
   "execution_count": 287,
   "id": "2db520ca",
   "metadata": {},
   "outputs": [],
   "source": [
    "import pandas as pd"
   ]
  },
  {
   "cell_type": "code",
   "execution_count": 288,
   "id": "3b7aee39",
   "metadata": {},
   "outputs": [
    {
     "data": {
      "text/html": [
       "<div>\n",
       "<style scoped>\n",
       "    .dataframe tbody tr th:only-of-type {\n",
       "        vertical-align: middle;\n",
       "    }\n",
       "\n",
       "    .dataframe tbody tr th {\n",
       "        vertical-align: top;\n",
       "    }\n",
       "\n",
       "    .dataframe thead th {\n",
       "        text-align: right;\n",
       "    }\n",
       "</style>\n",
       "<table border=\"1\" class=\"dataframe\">\n",
       "  <thead>\n",
       "    <tr style=\"text-align: right;\">\n",
       "      <th></th>\n",
       "      <th>age</th>\n",
       "      <th>workclass</th>\n",
       "      <th>fnlwgt</th>\n",
       "      <th>education</th>\n",
       "      <th>education-num</th>\n",
       "      <th>marital-status</th>\n",
       "      <th>occupation</th>\n",
       "      <th>relationship</th>\n",
       "      <th>race</th>\n",
       "      <th>sex</th>\n",
       "      <th>capital-gain</th>\n",
       "      <th>capital-loss</th>\n",
       "      <th>hours-per-week</th>\n",
       "      <th>native-country</th>\n",
       "      <th>salary</th>\n",
       "    </tr>\n",
       "  </thead>\n",
       "  <tbody>\n",
       "    <tr>\n",
       "      <th>0</th>\n",
       "      <td>39</td>\n",
       "      <td>State-gov</td>\n",
       "      <td>77516</td>\n",
       "      <td>Bachelors</td>\n",
       "      <td>13</td>\n",
       "      <td>Never-married</td>\n",
       "      <td>Adm-clerical</td>\n",
       "      <td>Not-in-family</td>\n",
       "      <td>White</td>\n",
       "      <td>Male</td>\n",
       "      <td>2174</td>\n",
       "      <td>0</td>\n",
       "      <td>40</td>\n",
       "      <td>United-States</td>\n",
       "      <td>&lt;=50K</td>\n",
       "    </tr>\n",
       "    <tr>\n",
       "      <th>28</th>\n",
       "      <td>39</td>\n",
       "      <td>Private</td>\n",
       "      <td>367260</td>\n",
       "      <td>HS-grad</td>\n",
       "      <td>9</td>\n",
       "      <td>Divorced</td>\n",
       "      <td>Exec-managerial</td>\n",
       "      <td>Not-in-family</td>\n",
       "      <td>White</td>\n",
       "      <td>Male</td>\n",
       "      <td>0</td>\n",
       "      <td>0</td>\n",
       "      <td>80</td>\n",
       "      <td>United-States</td>\n",
       "      <td>&lt;=50K</td>\n",
       "    </tr>\n",
       "    <tr>\n",
       "      <th>129</th>\n",
       "      <td>39</td>\n",
       "      <td>Private</td>\n",
       "      <td>365739</td>\n",
       "      <td>Some-college</td>\n",
       "      <td>10</td>\n",
       "      <td>Divorced</td>\n",
       "      <td>Craft-repair</td>\n",
       "      <td>Not-in-family</td>\n",
       "      <td>White</td>\n",
       "      <td>Male</td>\n",
       "      <td>0</td>\n",
       "      <td>0</td>\n",
       "      <td>40</td>\n",
       "      <td>United-States</td>\n",
       "      <td>&lt;=50K</td>\n",
       "    </tr>\n",
       "    <tr>\n",
       "      <th>166</th>\n",
       "      <td>39</td>\n",
       "      <td>Federal-gov</td>\n",
       "      <td>235485</td>\n",
       "      <td>Assoc-acdm</td>\n",
       "      <td>12</td>\n",
       "      <td>Never-married</td>\n",
       "      <td>Exec-managerial</td>\n",
       "      <td>Not-in-family</td>\n",
       "      <td>White</td>\n",
       "      <td>Male</td>\n",
       "      <td>0</td>\n",
       "      <td>0</td>\n",
       "      <td>42</td>\n",
       "      <td>United-States</td>\n",
       "      <td>&lt;=50K</td>\n",
       "    </tr>\n",
       "    <tr>\n",
       "      <th>297</th>\n",
       "      <td>39</td>\n",
       "      <td>?</td>\n",
       "      <td>157443</td>\n",
       "      <td>Masters</td>\n",
       "      <td>14</td>\n",
       "      <td>Married-civ-spouse</td>\n",
       "      <td>?</td>\n",
       "      <td>Wife</td>\n",
       "      <td>Asian-Pac-Islander</td>\n",
       "      <td>Female</td>\n",
       "      <td>3464</td>\n",
       "      <td>0</td>\n",
       "      <td>40</td>\n",
       "      <td>?</td>\n",
       "      <td>&lt;=50K</td>\n",
       "    </tr>\n",
       "    <tr>\n",
       "      <th>...</th>\n",
       "      <td>...</td>\n",
       "      <td>...</td>\n",
       "      <td>...</td>\n",
       "      <td>...</td>\n",
       "      <td>...</td>\n",
       "      <td>...</td>\n",
       "      <td>...</td>\n",
       "      <td>...</td>\n",
       "      <td>...</td>\n",
       "      <td>...</td>\n",
       "      <td>...</td>\n",
       "      <td>...</td>\n",
       "      <td>...</td>\n",
       "      <td>...</td>\n",
       "      <td>...</td>\n",
       "    </tr>\n",
       "    <tr>\n",
       "      <th>32378</th>\n",
       "      <td>39</td>\n",
       "      <td>Private</td>\n",
       "      <td>214896</td>\n",
       "      <td>HS-grad</td>\n",
       "      <td>9</td>\n",
       "      <td>Separated</td>\n",
       "      <td>Other-service</td>\n",
       "      <td>Not-in-family</td>\n",
       "      <td>White</td>\n",
       "      <td>Female</td>\n",
       "      <td>0</td>\n",
       "      <td>0</td>\n",
       "      <td>40</td>\n",
       "      <td>El-Salvador</td>\n",
       "      <td>&lt;=50K</td>\n",
       "    </tr>\n",
       "    <tr>\n",
       "      <th>32428</th>\n",
       "      <td>39</td>\n",
       "      <td>Federal-gov</td>\n",
       "      <td>110622</td>\n",
       "      <td>Bachelors</td>\n",
       "      <td>13</td>\n",
       "      <td>Married-civ-spouse</td>\n",
       "      <td>Adm-clerical</td>\n",
       "      <td>Wife</td>\n",
       "      <td>Asian-Pac-Islander</td>\n",
       "      <td>Female</td>\n",
       "      <td>0</td>\n",
       "      <td>0</td>\n",
       "      <td>40</td>\n",
       "      <td>Philippines</td>\n",
       "      <td>&lt;=50K</td>\n",
       "    </tr>\n",
       "    <tr>\n",
       "      <th>32468</th>\n",
       "      <td>39</td>\n",
       "      <td>Self-emp-not-inc</td>\n",
       "      <td>193689</td>\n",
       "      <td>HS-grad</td>\n",
       "      <td>9</td>\n",
       "      <td>Never-married</td>\n",
       "      <td>Exec-managerial</td>\n",
       "      <td>Not-in-family</td>\n",
       "      <td>White</td>\n",
       "      <td>Male</td>\n",
       "      <td>0</td>\n",
       "      <td>0</td>\n",
       "      <td>65</td>\n",
       "      <td>United-States</td>\n",
       "      <td>&lt;=50K</td>\n",
       "    </tr>\n",
       "    <tr>\n",
       "      <th>32510</th>\n",
       "      <td>39</td>\n",
       "      <td>Private</td>\n",
       "      <td>107302</td>\n",
       "      <td>HS-grad</td>\n",
       "      <td>9</td>\n",
       "      <td>Married-civ-spouse</td>\n",
       "      <td>Prof-specialty</td>\n",
       "      <td>Husband</td>\n",
       "      <td>White</td>\n",
       "      <td>Male</td>\n",
       "      <td>0</td>\n",
       "      <td>0</td>\n",
       "      <td>45</td>\n",
       "      <td>?</td>\n",
       "      <td>&gt;50K</td>\n",
       "    </tr>\n",
       "    <tr>\n",
       "      <th>32545</th>\n",
       "      <td>39</td>\n",
       "      <td>Local-gov</td>\n",
       "      <td>111499</td>\n",
       "      <td>Assoc-acdm</td>\n",
       "      <td>12</td>\n",
       "      <td>Married-civ-spouse</td>\n",
       "      <td>Adm-clerical</td>\n",
       "      <td>Wife</td>\n",
       "      <td>White</td>\n",
       "      <td>Female</td>\n",
       "      <td>0</td>\n",
       "      <td>0</td>\n",
       "      <td>20</td>\n",
       "      <td>United-States</td>\n",
       "      <td>&gt;50K</td>\n",
       "    </tr>\n",
       "  </tbody>\n",
       "</table>\n",
       "<p>816 rows × 15 columns</p>\n",
       "</div>"
      ],
      "text/plain": [
       "       age          workclass  fnlwgt      education  education-num  \\\n",
       "0       39          State-gov   77516      Bachelors             13   \n",
       "28      39            Private  367260        HS-grad              9   \n",
       "129     39            Private  365739   Some-college             10   \n",
       "166     39        Federal-gov  235485     Assoc-acdm             12   \n",
       "297     39                  ?  157443        Masters             14   \n",
       "...    ...                ...     ...            ...            ...   \n",
       "32378   39            Private  214896        HS-grad              9   \n",
       "32428   39        Federal-gov  110622      Bachelors             13   \n",
       "32468   39   Self-emp-not-inc  193689        HS-grad              9   \n",
       "32510   39            Private  107302        HS-grad              9   \n",
       "32545   39          Local-gov  111499     Assoc-acdm             12   \n",
       "\n",
       "            marital-status        occupation    relationship  \\\n",
       "0            Never-married      Adm-clerical   Not-in-family   \n",
       "28                Divorced   Exec-managerial   Not-in-family   \n",
       "129               Divorced      Craft-repair   Not-in-family   \n",
       "166          Never-married   Exec-managerial   Not-in-family   \n",
       "297     Married-civ-spouse                 ?            Wife   \n",
       "...                    ...               ...             ...   \n",
       "32378            Separated     Other-service   Not-in-family   \n",
       "32428   Married-civ-spouse      Adm-clerical            Wife   \n",
       "32468        Never-married   Exec-managerial   Not-in-family   \n",
       "32510   Married-civ-spouse    Prof-specialty         Husband   \n",
       "32545   Married-civ-spouse      Adm-clerical            Wife   \n",
       "\n",
       "                      race      sex  capital-gain  capital-loss  \\\n",
       "0                    White     Male          2174             0   \n",
       "28                   White     Male             0             0   \n",
       "129                  White     Male             0             0   \n",
       "166                  White     Male             0             0   \n",
       "297     Asian-Pac-Islander   Female          3464             0   \n",
       "...                    ...      ...           ...           ...   \n",
       "32378                White   Female             0             0   \n",
       "32428   Asian-Pac-Islander   Female             0             0   \n",
       "32468                White     Male             0             0   \n",
       "32510                White     Male             0             0   \n",
       "32545                White   Female             0             0   \n",
       "\n",
       "       hours-per-week  native-country  salary  \n",
       "0                  40   United-States   <=50K  \n",
       "28                 80   United-States   <=50K  \n",
       "129                40   United-States   <=50K  \n",
       "166                42   United-States   <=50K  \n",
       "297                40               ?   <=50K  \n",
       "...               ...             ...     ...  \n",
       "32378              40     El-Salvador   <=50K  \n",
       "32428              40     Philippines   <=50K  \n",
       "32468              65   United-States   <=50K  \n",
       "32510              45               ?    >50K  \n",
       "32545              20   United-States    >50K  \n",
       "\n",
       "[816 rows x 15 columns]"
      ]
     },
     "execution_count": 288,
     "metadata": {},
     "output_type": "execute_result"
    }
   ],
   "source": [
    "# IMPORT THE DTA\n",
    "df = pd.read_csv(\"50Ksalary.data\")\n",
    "df[df['age']==39]"
   ]
  },
  {
   "cell_type": "code",
   "execution_count": 289,
   "id": "390044d5",
   "metadata": {},
   "outputs": [],
   "source": [
    "# OBSERVE THE DATASET\n",
    "df.describe()\n",
    "num_instance = len(df)\n",
    "num_att = len(df.iloc[0]) - 1"
   ]
  },
  {
   "cell_type": "code",
   "execution_count": 290,
   "id": "2c2531a2",
   "metadata": {},
   "outputs": [
    {
     "data": {
      "text/plain": [
       "32561"
      ]
     },
     "execution_count": 290,
     "metadata": {},
     "output_type": "execute_result"
    }
   ],
   "source": [
    "# CLEAN THE DATA, REMOVE NULLS\n",
    "df = df.dropna() \n",
    "len(df)"
   ]
  },
  {
   "cell_type": "code",
   "execution_count": 291,
   "id": "ac16f9b0",
   "metadata": {},
   "outputs": [
    {
     "data": {
      "text/plain": [
       "array([[' <=50K'],\n",
       "       [' <=50K'],\n",
       "       [' <=50K'],\n",
       "       ...,\n",
       "       [' <=50K'],\n",
       "       [' <=50K'],\n",
       "       [' >50K']], dtype=object)"
      ]
     },
     "execution_count": 291,
     "metadata": {},
     "output_type": "execute_result"
    }
   ],
   "source": [
    "# SEPERATE THE X AND Y\n",
    "X = df.drop(columns=['salary']).values\n",
    "y = df[['salary']].values\n",
    "# .value IS NECESSARY BECAUSE THE CONVERSION IS BEING DONE BY LabelEncoder"
   ]
  },
  {
   "cell_type": "code",
   "execution_count": 292,
   "id": "cb95c95a",
   "metadata": {},
   "outputs": [
    {
     "name": "stdout",
     "output_type": "stream",
     "text": [
      "22\n",
      "7\n",
      "2671\n",
      "9\n",
      "12\n",
      "4\n",
      "1\n",
      "1\n",
      "4\n",
      "1\n",
      "25\n",
      "0\n",
      "39\n",
      "39\n"
     ]
    }
   ],
   "source": [
    "# CONVERTING X VALUES INTO NUMERICS\n",
    "from sklearn.preprocessing import LabelEncoder\n",
    "Le = LabelEncoder()\n",
    "# CHANGE ATTRIBUTE BY ATTRIBUTE\n",
    "for i in range(len(X[0])):\n",
    "    X[:,i]  = Le.fit_transform( X[:,i])"
   ]
  },
  {
   "cell_type": "code",
   "execution_count": 293,
   "id": "285f1295",
   "metadata": {},
   "outputs": [],
   "source": [
    "# CONVERTING Y VALUES INTO NUMERICS\n",
    "for i in range(len(y[0])):\n",
    "    y[:, i] = Le.fit_transform(y[:, i])\n"
   ]
  },
  {
   "cell_type": "code",
   "execution_count": 294,
   "id": "3e6035f7",
   "metadata": {},
   "outputs": [],
   "source": [
    "X=X.astype('int')\n",
    "y = y.astype('int')\n",
    "# CONERT TO INT TYPE"
   ]
  },
  {
   "cell_type": "code",
   "execution_count": 295,
   "id": "caa44e37",
   "metadata": {},
   "outputs": [
    {
     "data": {
      "text/plain": [
       "array([[0],\n",
       "       [0],\n",
       "       [0],\n",
       "       ...,\n",
       "       [0],\n",
       "       [0],\n",
       "       [1]])"
      ]
     },
     "execution_count": 295,
     "metadata": {},
     "output_type": "execute_result"
    }
   ],
   "source": [
    "# SPLIT INTO TRAINING SET AND TEST SET\n",
    "from sklearn.model_selection import train_test_split\n",
    "X_train, X_test, y_train, y_test = train_test_split(X, y, test_size=0.2)"
   ]
  },
  {
   "cell_type": "code",
   "execution_count": 296,
   "id": "2fbcb252",
   "metadata": {},
   "outputs": [],
   "source": [
    "# CREATE AND MODEL AND TRAIN\n",
    "from sklearn.neighbors import KNeighborsClassifier\n",
    "knn = KNeighborsClassifier(weights='uniform', n_neighbors=25)\n",
    "y_train =  y_train.ravel() # Y NEEDS TO BE 1D ARRAY\n",
    "try:\n",
    "    knn.fit(X_train, y_train)\n",
    "except Exception as e:\n",
    "    print(e)"
   ]
  },
  {
   "cell_type": "code",
   "execution_count": 297,
   "id": "71fc7c38",
   "metadata": {},
   "outputs": [
    {
     "name": "stdout",
     "output_type": "stream",
     "text": [
      "prediction:  0\n",
      "actual:  [0]\n"
     ]
    }
   ],
   "source": [
    "# TESTING \n",
    "try:\n",
    "    print(\"prediction: \", knn.predict(X_test)[20])\n",
    "    print(\"actual: \", y_test[20])\n",
    "except Exception as e:\n",
    "    print(e)"
   ]
  },
  {
   "cell_type": "code",
   "execution_count": 298,
   "id": "27398c4a",
   "metadata": {},
   "outputs": [
    {
     "name": "stdout",
     "output_type": "stream",
     "text": [
      "0.7801320436050975\n"
     ]
    }
   ],
   "source": [
    "# SCORE\n",
    "from sklearn.metrics import accuracy_score\n",
    "print(accuracy_score(y_test, knn.predict(X_test)))"
   ]
  },
  {
   "cell_type": "code",
   "execution_count": 301,
   "id": "49b8aedc",
   "metadata": {},
   "outputs": [
    {
     "name": "stdout",
     "output_type": "stream",
     "text": [
      "prediction:  0\n",
      "actual:  [0]\n",
      "accuarcy score fr LR:  0.7801320436050975\n"
     ]
    }
   ],
   "source": [
    "# testing linear regression \n",
    "from sklearn.linear_model import LogisticRegression\n",
    "LR = LogisticRegression(solver='liblinear')\n",
    "LR.fit(X_train, y_train)\n",
    "try:\n",
    "    print(\"prediction: \", knn.predict(X_test)[20])\n",
    "    print(\"actual: \", y_test[20])\n",
    "except Exception as e:\n",
    "    print(e)\n",
    "print(\"accuarcy score fr LR: \", accuracy_score(y_test, knn.predict(X_test)))"
   ]
  },
  {
   "cell_type": "code",
   "execution_count": 300,
   "id": "fd78249d",
   "metadata": {},
   "outputs": [
    {
     "name": "stdout",
     "output_type": "stream",
     "text": [
      "prediction:  0\n",
      "actual:  [0]\n",
      "accuarcy score fr LR:  0.8036235221863964\n"
     ]
    }
   ],
   "source": [
    "# testing DecisionTreeClassifier\n",
    "from sklearn.tree import DecisionTreeClassifier\n",
    "DTC = DecisionTreeClassifier()\n",
    "DTC.fit(X_train, y_train)\n",
    "try:\n",
    "    print(\"prediction: \", DTC.predict(X_test)[20])\n",
    "    print(\"actual: \", y_test[20])\n",
    "except Exception as e:\n",
    "    print(e)\n",
    "print(\"accuarcy score fr LR: \", accuracy_score(y_test, DTC.predict(X_test)))"
   ]
  }
 ],
 "metadata": {
  "kernelspec": {
   "display_name": "Python 3 (ipykernel)",
   "language": "python",
   "name": "python3"
  },
  "language_info": {
   "codemirror_mode": {
    "name": "ipython",
    "version": 3
   },
   "file_extension": ".py",
   "mimetype": "text/x-python",
   "name": "python",
   "nbconvert_exporter": "python",
   "pygments_lexer": "ipython3",
   "version": "3.9.12"
  }
 },
 "nbformat": 4,
 "nbformat_minor": 5
}
